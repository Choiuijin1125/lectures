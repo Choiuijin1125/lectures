{
 "cells": [
  {
   "cell_type": "markdown",
   "metadata": {
    "colab_type": "text",
    "id": "MhoQ0WE77laV"
   },
   "source": [
    "##### Copyright 2018 The TensorFlow Authors."
   ]
  },
  {
   "cell_type": "code",
   "execution_count": 1,
   "metadata": {
    "cellView": "form",
    "colab": {},
    "colab_type": "code",
    "id": "_ckMIh7O7s6D"
   },
   "outputs": [],
   "source": [
    "#@title Licensed under the Apache License, Version 2.0 (the \"License\");\n",
    "# you may not use this file except in compliance with the License.\n",
    "# You may obtain a copy of the License at\n",
    "#\n",
    "# https://www.apache.org/licenses/LICENSE-2.0\n",
    "#\n",
    "# Unless required by applicable law or agreed to in writing, software\n",
    "# distributed under the License is distributed on an \"AS IS\" BASIS,\n",
    "# WITHOUT WARRANTIES OR CONDITIONS OF ANY KIND, either express or implied.\n",
    "# See the License for the specific language governing permissions and\n",
    "# limitations under the License."
   ]
  },
  {
   "cell_type": "code",
   "execution_count": 2,
   "metadata": {
    "cellView": "form",
    "colab": {},
    "colab_type": "code",
    "id": "vasWnqRgy1H4"
   },
   "outputs": [],
   "source": [
    "#@title MIT License\n",
    "#\n",
    "# Copyright (c) 2017 François Chollet\n",
    "#\n",
    "# Permission is hereby granted, free of charge, to any person obtaining a\n",
    "# copy of this software and associated documentation files (the \"Software\"),\n",
    "# to deal in the Software without restriction, including without limitation\n",
    "# the rights to use, copy, modify, merge, publish, distribute, sublicense,\n",
    "# and/or sell copies of the Software, and to permit persons to whom the\n",
    "# Software is furnished to do so, subject to the following conditions:\n",
    "#\n",
    "# The above copyright notice and this permission notice shall be included in\n",
    "# all copies or substantial portions of the Software.\n",
    "#\n",
    "# THE SOFTWARE IS PROVIDED \"AS IS\", WITHOUT WARRANTY OF ANY KIND, EXPRESS OR\n",
    "# IMPLIED, INCLUDING BUT NOT LIMITED TO THE WARRANTIES OF MERCHANTABILITY,\n",
    "# FITNESS FOR A PARTICULAR PURPOSE AND NONINFRINGEMENT. IN NO EVENT SHALL\n",
    "# THE AUTHORS OR COPYRIGHT HOLDERS BE LIABLE FOR ANY CLAIM, DAMAGES OR OTHER\n",
    "# LIABILITY, WHETHER IN AN ACTION OF CONTRACT, TORT OR OTHERWISE, ARISING\n",
    "# FROM, OUT OF OR IN CONNECTION WITH THE SOFTWARE OR THE USE OR OTHER\n",
    "# DEALINGS IN THE SOFTWARE."
   ]
  },
  {
   "cell_type": "markdown",
   "metadata": {},
   "source": [
    "## [오늘의 목표](https://www.youtube.com/watch?v=3JQ3hYko51Y&feature=youtu.be)"
   ]
  },
  {
   "cell_type": "code",
   "execution_count": null,
   "metadata": {},
   "outputs": [],
   "source": [
    "! git clone https://github.com/Choiuijin1125/lectures"
   ]
  },
  {
   "cell_type": "code",
   "execution_count": null,
   "metadata": {},
   "outputs": [],
   "source": [
    "try:\n",
    "  # %tensorflow_version only exists in Colab.\n",
    "  %tensorflow_version 2.x\n",
    "except Exception:\n",
    "  pass\n",
    "import tensorflow as tf\n",
    "\n",
    "keras = tf.keras"
   ]
  },
  {
   "cell_type": "code",
   "execution_count": null,
   "metadata": {},
   "outputs": [],
   "source": [
    "import cv2\n",
    "import matplotlib.pyplot as plt\n",
    "import matplotlib as mpl\n",
    "\n",
    "%matplotlib inline"
   ]
  },
  {
   "cell_type": "code",
   "execution_count": null,
   "metadata": {},
   "outputs": [],
   "source": [
    "# 고양이 이미지의 경로를 설정합니다.\n",
    "img_path = '/content/lectures/khris/project_1/cat.jpeg'"
   ]
  },
  {
   "cell_type": "code",
   "execution_count": null,
   "metadata": {},
   "outputs": [],
   "source": [
    "# 고양이 이미지를 불러옵니다.\n",
    "bgr_img = cv2.imread(img_path)"
   ]
  },
  {
   "cell_type": "code",
   "execution_count": null,
   "metadata": {},
   "outputs": [],
   "source": [
    "# BGR순서의 이미지를 RGB 색상으로 변경시켜줍니다.\n",
    "bgr_img = cv2.cvtColor(bgr_img, cv2.COLOR_BGR2RGB)"
   ]
  },
  {
   "cell_type": "code",
   "execution_count": null,
   "metadata": {},
   "outputs": [],
   "source": [
    "# 이미지를 도식화 합니다. \n",
    "plt.imshow(bgr_img)\n",
    "plt.colorbar()\n",
    "plt.show()"
   ]
  },
  {
   "cell_type": "code",
   "execution_count": null,
   "metadata": {},
   "outputs": [],
   "source": [
    "# BGR 컬러의 이미지를 GRAY 이미지 컬러로 전환 시킵니다.\n",
    "gray_img = cv2.cvtColor(bgr_img, cv2.COLOR_BGR2GRAY)\n",
    "\n",
    "# 0~255까지 존재하는 이미지값을 0~1로 정규화 시켜줍니다.\n",
    "gray_img = gray_img.astype(\"float32\")/255\n",
    "\n",
    "# 이미지를 도식화 합니다.\n",
    "plt.imshow(gray_img, cmap='gray')\n",
    "plt.colorbar()\n",
    "plt.show()"
   ]
  },
  {
   "cell_type": "markdown",
   "metadata": {},
   "source": [
    "## 컴퓨터가 이미지를 이해하는 방식 ? "
   ]
  },
  {
   "cell_type": "code",
   "execution_count": null,
   "metadata": {},
   "outputs": [],
   "source": [
    "#bgr_img.shape"
   ]
  },
  {
   "cell_type": "code",
   "execution_count": null,
   "metadata": {},
   "outputs": [],
   "source": [
    "#bgr_img[:10].shape"
   ]
  },
  {
   "cell_type": "code",
   "execution_count": null,
   "metadata": {},
   "outputs": [],
   "source": [
    "#bgr_img[0][100]"
   ]
  },
  {
   "cell_type": "markdown",
   "metadata": {},
   "source": [
    "## 빛의 삼원색"
   ]
  },
  {
   "cell_type": "markdown",
   "metadata": {},
   "source": [
    "<img src=\"https://upload.wikimedia.org/wikipedia/commons/thumb/e/e0/Synthese%2B.svg/1200px-Synthese%2B.svg.png\" alt=\"빛의 삼원색\" style=\"width: 200px;\"/>"
   ]
  },
  {
   "cell_type": "markdown",
   "metadata": {},
   "source": [
    "<img src=\"https://img.webnots.com/2015/05/Rainbow-5.png\" alt=\"빛의 삼원색\" style=\"width: 400px;\"/>\n"
   ]
  },
  {
   "cell_type": "markdown",
   "metadata": {},
   "source": [
    "# Tensor"
   ]
  },
  {
   "cell_type": "markdown",
   "metadata": {},
   "source": [
    "<img src=\"https://upload.wikimedia.org/wikipedia/commons/thumb/7/71/Epsilontensor.svg/300px-Epsilontensor.svg.png\" alt=\"filter\" style=\"width: 300px;\"/>"
   ]
  },
  {
   "cell_type": "markdown",
   "metadata": {},
   "source": [
    "<img src=\"https://miro.medium.com/max/752/1*Q8bknFjSyoN-UIzKc89P9g.png\" alt=\"filter\" style=\"width: 300px;\"/>"
   ]
  },
  {
   "cell_type": "markdown",
   "metadata": {},
   "source": []
  },
  {
   "cell_type": "markdown",
   "metadata": {
    "colab_type": "text",
    "id": "jYysdyb-CaWM"
   },
   "source": [
    "# 첫 번째 신경망 훈련하기: 기초적인 분류 문제"
   ]
  },
  {
   "cell_type": "code",
   "execution_count": null,
   "metadata": {
    "colab": {},
    "colab_type": "code",
    "id": "dzLKpmZICaWN"
   },
   "outputs": [],
   "source": [
    "from __future__ import absolute_import, division, print_function, unicode_literals, unicode_literals\n",
    "\n",
    "# tensorflow와 tf.keras를 임포트합니다\n",
    "import tensorflow as tf\n",
    "from tensorflow import keras"
   ]
  },
  {
   "cell_type": "code",
   "execution_count": null,
   "metadata": {
    "colab": {},
    "colab_type": "code",
    "id": "dzLKpmZICaWN"
   },
   "outputs": [],
   "source": [
    "# 헬퍼(helper) 라이브러리를 임포트합니다\n",
    "import numpy as np\n",
    "import matplotlib.pyplot as plt\n",
    "\n",
    "print(tf.__version__)"
   ]
  },
  {
   "cell_type": "markdown",
   "metadata": {
    "colab_type": "text",
    "id": "yR0EdgrLCaWR"
   },
   "source": [
    "## 패션 MNIST 데이터셋 임포트하기"
   ]
  },
  {
   "cell_type": "markdown",
   "metadata": {
    "colab_type": "text",
    "id": "DLdCchMdCaWQ"
   },
   "source": [
    "10개의 범주(category)와 70,000개의 흑백 이미지로 구성된 [패션 MNIST](https://github.com/zalandoresearch/fashion-mnist) 데이터셋을 사용하겠습니다. 이미지는 해상도(28x28 픽셀)가 낮고 다음처럼 개별 옷 품목을 나타냅니다:\n",
    "\n",
    "<table>\n",
    "  <tr><td>\n",
    "    <img src=\"https://tensorflow.org/images/fashion-mnist-sprite.png\"\n",
    "         alt=\"Fashion MNIST sprite\"  width=\"600\">\n",
    "  </td></tr>\n",
    "  <tr><td align=\"center\">\n",
    "    <b>그림 1.</b> <a href=\"https://github.com/zalandoresearch/fashion-mnist\">패션-MNIST 샘플</a> (Zalando, MIT License).<br/>&nbsp;\n",
    "  </td></tr>\n",
    "</table>\n",
    "\n",
    "패션 MNIST는 컴퓨터 비전 분야의 \"Hello, World\" 프로그램격인 고전 [MNIST](http://yann.lecun.com/exdb/mnist/) 데이터셋을 대신해서 자주 사용됩니다. MNIST 데이터셋은 손글씨 숫자(0, 1, 2 등)의 이미지로 이루어져 있습니다. 여기서 사용하려는 옷 이미지와 동일한 포맷입니다.\n",
    "\n",
    "패션 MNIST는 일반적인 MNIST 보다 조금 더 어려운 문제이고 다양한 예제를 만들기 위해 선택했습니다. 두 데이터셋은 비교적 작기 때문에 알고리즘의 작동 여부를 확인하기 위해 사용되곤 합니다. 코드를 테스트하고 디버깅하는 용도로 좋습니다.\n",
    "\n",
    "네트워크를 훈련하는데 60,000개의 이미지를 사용합니다. 그다음 네트워크가 얼마나 정확하게 이미지를 분류하는지 10,000개의 이미지로 평가하겠습니다. 패션 MNIST 데이터셋은 텐서플로에서 바로 임포트하여 적재할 수 있습니다:"
   ]
  },
  {
   "cell_type": "code",
   "execution_count": null,
   "metadata": {
    "colab": {},
    "colab_type": "code",
    "id": "7MqDQO0KCaWS"
   },
   "outputs": [],
   "source": [
    "fashion_mnist = keras.datasets.fashion_mnist\n",
    "\n",
    "(train_images, train_labels), (test_images, test_labels) = fashion_mnist.load_data()"
   ]
  },
  {
   "cell_type": "markdown",
   "metadata": {
    "colab_type": "text",
    "id": "t9FDsUlxCaWW"
   },
   "source": [
    "load_data() 함수를 호출하면 네 개의 넘파이(NumPy) 배열이 반환됩니다:\n",
    "\n",
    "* `train_images`와 `train_labels` 배열은 모델 학습에 사용되는 *훈련 세트*입니다.\n",
    "* `test_images`와 `test_labels` 배열은 모델 테스트에 사용되는 *테스트 세트*입니다.\n",
    "\n",
    "이미지는 28x28 크기의 넘파이 배열이고 픽셀 값은 0과 255 사이입니다. *레이블*(label)은 0에서 9까지의 정수 배열입니다. 이 값은 이미지에 있는 옷의 *클래스*(class)를 나타냅니다:\n",
    "\n",
    "<table>\n",
    "  <tr>\n",
    "    <th>레이블</th>\n",
    "    <th>클래스</th>\n",
    "  </tr>\n",
    "  <tr>\n",
    "    <td>0</td>\n",
    "    <td>T-shirt/top</td>\n",
    "  </tr>\n",
    "  <tr>\n",
    "    <td>1</td>\n",
    "    <td>Trouser</td>\n",
    "  </tr>\n",
    "    <tr>\n",
    "    <td>2</td>\n",
    "    <td>Pullover</td>\n",
    "  </tr>\n",
    "    <tr>\n",
    "    <td>3</td>\n",
    "    <td>Dress</td>\n",
    "  </tr>\n",
    "    <tr>\n",
    "    <td>4</td>\n",
    "    <td>Coat</td>\n",
    "  </tr>\n",
    "    <tr>\n",
    "    <td>5</td>\n",
    "    <td>Sandal</td>\n",
    "  </tr>\n",
    "    <tr>\n",
    "    <td>6</td>\n",
    "    <td>Shirt</td>\n",
    "  </tr>\n",
    "    <tr>\n",
    "    <td>7</td>\n",
    "    <td>Sneaker</td>\n",
    "  </tr>\n",
    "    <tr>\n",
    "    <td>8</td>\n",
    "    <td>Bag</td>\n",
    "  </tr>\n",
    "    <tr>\n",
    "    <td>9</td>\n",
    "    <td>Ankle boot</td>\n",
    "  </tr>\n",
    "</table>\n",
    "\n",
    "각 이미지는 하나의 레이블에 매핑되어 있습니다. 데이터셋에 *클래스 이름*이 들어있지 않기 때문에 나중에 이미지를 출력할 때 사용하기 위해 별도의 변수를 만들어 저장합니다:"
   ]
  },
  {
   "cell_type": "code",
   "execution_count": null,
   "metadata": {
    "colab": {},
    "colab_type": "code",
    "id": "IjnLH5S2CaWx"
   },
   "outputs": [],
   "source": [
    "class_names = ['T-shirt/top', 'Trouser', 'Pullover', 'Dress', 'Coat',\n",
    "               'Sandal', 'Shirt', 'Sneaker', 'Bag', 'Ankle boot']"
   ]
  },
  {
   "cell_type": "markdown",
   "metadata": {
    "colab_type": "text",
    "id": "Brm0b_KACaWX"
   },
   "source": [
    "## 데이터 탐색\n",
    "\n",
    "모델을 훈련하기 전에 데이터셋 구조를 살펴보죠. 다음 코드는 훈련 세트에 60,000개의 이미지가 있다는 것을 보여줍니다. 각 이미지는 28x28 픽셀로 표현됩니다:"
   ]
  },
  {
   "cell_type": "code",
   "execution_count": null,
   "metadata": {
    "colab": {},
    "colab_type": "code",
    "id": "zW5k_xz1CaWX"
   },
   "outputs": [],
   "source": [
    "train_images.shape"
   ]
  },
  {
   "cell_type": "code",
   "execution_count": null,
   "metadata": {},
   "outputs": [],
   "source": [
    "train_images[0].shape"
   ]
  },
  {
   "cell_type": "markdown",
   "metadata": {
    "colab_type": "text",
    "id": "cIAcvQqMCaWf"
   },
   "source": [
    "비슷하게 훈련 세트에는 60,000개의 레이블이 있습니다:"
   ]
  },
  {
   "cell_type": "code",
   "execution_count": null,
   "metadata": {
    "colab": {},
    "colab_type": "code",
    "id": "TRFYHB2mCaWb"
   },
   "outputs": [],
   "source": [
    "len(train_labels)"
   ]
  },
  {
   "cell_type": "markdown",
   "metadata": {
    "colab_type": "text",
    "id": "YSlYxFuRCaWk"
   },
   "source": [
    "각 레이블은 0과 9사이의 정수입니다:"
   ]
  },
  {
   "cell_type": "code",
   "execution_count": null,
   "metadata": {
    "colab": {},
    "colab_type": "code",
    "id": "XKnCTHz4CaWg"
   },
   "outputs": [],
   "source": [
    "train_labels"
   ]
  },
  {
   "cell_type": "markdown",
   "metadata": {
    "colab_type": "text",
    "id": "TMPI88iZpO2T"
   },
   "source": [
    "테스트 세트에는 10,000개의 이미지가 있습니다. 이 이미지도 28x28 픽셀로 표현됩니다:"
   ]
  },
  {
   "cell_type": "code",
   "execution_count": null,
   "metadata": {
    "colab": {},
    "colab_type": "code",
    "id": "2KFnYlcwCaWl"
   },
   "outputs": [],
   "source": [
    "test_images.shape"
   ]
  },
  {
   "cell_type": "markdown",
   "metadata": {
    "colab_type": "text",
    "id": "rd0A0Iu0CaWq"
   },
   "source": [
    "테스트 세트는 10,000개의 이미지에 대한 레이블을 가지고 있습니다:"
   ]
  },
  {
   "cell_type": "code",
   "execution_count": null,
   "metadata": {
    "colab": {},
    "colab_type": "code",
    "id": "iJmPr5-ACaWn"
   },
   "outputs": [],
   "source": [
    "len(test_labels)"
   ]
  },
  {
   "cell_type": "markdown",
   "metadata": {
    "colab_type": "text",
    "id": "ES6uQoLKCaWr"
   },
   "source": [
    "## 데이터 전처리\n",
    "\n",
    "네트워크를 훈련하기 전에 데이터를 전처리해야 합니다. 훈련 세트에 있는 첫 번째 이미지를 보면 픽셀 값의 범위가 0~255 사이라는 것을 알 수 있습니다:"
   ]
  },
  {
   "cell_type": "code",
   "execution_count": null,
   "metadata": {
    "colab": {},
    "colab_type": "code",
    "id": "m4VEw8Ud9Quh"
   },
   "outputs": [],
   "source": [
    "plt.figure()\n",
    "plt.imshow(train_images[0], cmap='gray')\n",
    "plt.colorbar()\n",
    "plt.grid(False)\n",
    "plt.show()"
   ]
  },
  {
   "cell_type": "markdown",
   "metadata": {},
   "source": [
    "필요시, 컬러를 설정할 수 있고, colobar()는 값을 의미한다. 0~255 까지의 데이터가 존재한다."
   ]
  },
  {
   "cell_type": "markdown",
   "metadata": {
    "colab_type": "text",
    "id": "Wz7l27Lz9S1P"
   },
   "source": [
    "신경망 모델에 주입하기 전에 이 값의 범위를 0~1 사이로 조정하겠습니다. 이렇게 하려면 255로 나누어야 합니다. *훈련 세트*와 *테스트 세트*를 동일한 방식으로 전처리하는 것이 중요합니다:"
   ]
  },
  {
   "cell_type": "code",
   "execution_count": null,
   "metadata": {
    "colab": {},
    "colab_type": "code",
    "id": "bW5WzIPlCaWv"
   },
   "outputs": [],
   "source": [
    "train_images = train_images / 255.0\n",
    "\n",
    "test_images = test_images / 255.0"
   ]
  },
  {
   "cell_type": "markdown",
   "metadata": {
    "colab_type": "text",
    "id": "Ee638AlnCaWz"
   },
   "source": [
    "*훈련 세트*에서 처음 25개 이미지와 그 아래 클래스 이름을 출력해 보죠. 데이터 포맷이 올바른지 확인하고 네트워크 구성과 훈련할 준비를 마칩니다."
   ]
  },
  {
   "cell_type": "code",
   "execution_count": null,
   "metadata": {
    "colab": {},
    "colab_type": "code",
    "id": "oZTImqg_CaW1"
   },
   "outputs": [],
   "source": [
    "plt.figure(figsize=(10,10))\n",
    "for i in range(25):\n",
    "    plt.subplot(5,5,i+1)\n",
    "    plt.xticks([])\n",
    "    plt.yticks([])\n",
    "    plt.grid(False)\n",
    "    plt.imshow(train_images[i], cmap=plt.cm.binary)\n",
    "    plt.xlabel(class_names[train_labels[i]])\n",
    "    #plt.colorbar()\n",
    "plt.show()"
   ]
  },
  {
   "cell_type": "markdown",
   "metadata": {},
   "source": [
    "## Before Machine Learning"
   ]
  },
  {
   "cell_type": "markdown",
   "metadata": {},
   "source": [
    "<img src=\"https://thebook.io/img/006975/030.jpg\" alt=\"빛의 삼원색\" style=\"width: 600px;\"/>"
   ]
  },
  {
   "cell_type": "markdown",
   "metadata": {},
   "source": [
    "## Deep Neural network\n",
    "<img src=\"https://static.wixstatic.com/media/a27d24_c1620508d5064be294c79bdee5310f22~mv2.png/v1/fit/w_1608,h_798,al_c,q_80/file.webp\" alt=\"빛의 삼원색\" style=\"width: 600px;\"/>"
   ]
  },
  {
   "cell_type": "markdown",
   "metadata": {},
   "source": [
    "## How?"
   ]
  },
  {
   "cell_type": "markdown",
   "metadata": {},
   "source": [
    "<img src=\"https://thebook.io/img/006975/037.jpg\" alt=\"빛의 삼원색\" style=\"width: 600px;\"/>"
   ]
  },
  {
   "cell_type": "markdown",
   "metadata": {},
   "source": [
    "## Loss function\n",
    "### 1. Mean Square Error(Regression)\n",
    "<img src=\"https://mblogthumb-phinf.pstatic.net/MjAxNzA2MTBfMjk3/MDAxNDk3MDc3MTMwOTQ2.GgGlorZevi3xnKcBFHqCrG6JKGaWMa-IvVv-927bzecg.8JF52k5hIgKhdEbkzcoo_yPW6Hac3WIucgThhTGvFnsg.JPEG.wideeyed/MSE_formula.jpg?type=w2\" alt=\"빛의 삼원색\" style=\"width: 200px;\"/>\n",
    "\n",
    "Gradient\n",
    "\n",
    "<img src=\"https://miro.medium.com/max/1204/1*t6OiVIMKw3SBjNzj-lp_Fw.png\" alt=\"빛의 삼원색\" style=\"width: 400px;\"/>"
   ]
  },
  {
   "cell_type": "markdown",
   "metadata": {},
   "source": [
    "### 2. Cross-entropy(Classification)\n",
    "\n",
    "<img src=\"https://img1.daumcdn.net/thumb/R800x0/?scode=mtistory2&fname=https%3A%2F%2Fk.kakaocdn.net%2Fdn%2Fl2fVS%2FbtqxaDzMo7G%2FU9QHVyal8u1yLXZM6W0eAk%2Fimg.png\" alt=\"빛의 삼원색\" style=\"width: 400px;\"/>"
   ]
  },
  {
   "cell_type": "markdown",
   "metadata": {
    "colab_type": "text",
    "id": "59veuiEZCaW4"
   },
   "source": [
    "## 모델 구성\n",
    "\n",
    "신경망 모델을 만들려면 모델의 층을 구성한 다음 모델을 컴파일합니다."
   ]
  },
  {
   "cell_type": "markdown",
   "metadata": {
    "colab_type": "text",
    "id": "Gxg1XGm0eOBy"
   },
   "source": [
    "### 층 설정\n",
    "\n",
    "신경망의 기본 구성 요소는 *층*(layer)입니다. 층은 주입된 데이터에서 표현을 추출합니다. 아마도 문제를 해결하는데 더 의미있는 표현이 추출될 것입니다.\n",
    "\n",
    "대부분 딥러닝은 간단한 층을 연결하여 구성됩니다. `tf.keras.layers.Dense`와 같은 층들의 가중치(parameter)는 훈련하는 동안 학습됩니다."
   ]
  },
  {
   "cell_type": "markdown",
   "metadata": {},
   "source": [
    "## Multi-Perceptron"
   ]
  },
  {
   "cell_type": "code",
   "execution_count": null,
   "metadata": {
    "colab": {},
    "colab_type": "code",
    "id": "9ODch-OFCaW4"
   },
   "outputs": [],
   "source": [
    "model = keras.Sequential([\n",
    "    keras.layers.Flatten(input_shape=(28, 28)),\n",
    "    keras.layers.Dense(128, activation='relu'),\n",
    "    keras.layers.Dense(10, activation='softmax')\n",
    "])"
   ]
  },
  {
   "cell_type": "markdown",
   "metadata": {},
   "source": [
    "## Activation function\n",
    "<img src=\"https://miro.medium.com/max/1192/1*4ZEDRpFuCIpUjNgjDdT2Lg.png\" alt=\"빛의 삼원색\" style=\"width: 600px;\"/>"
   ]
  },
  {
   "cell_type": "markdown",
   "metadata": {},
   "source": [
    "## Softmax\n",
    "<img src=\"https://cdn-images-1.medium.com/max/906/1*670CdxchunD-yAuUWdI7Bw.png\" alt=\"빛의 삼원색\" style=\"width: 600px;\"/>"
   ]
  },
  {
   "cell_type": "markdown",
   "metadata": {
    "colab_type": "text",
    "id": "gut8A_7rCaW6"
   },
   "source": [
    "이 네트워크의 첫 번째 층인 `tf.keras.layers.Flatten`은 2차원 배열(28 x 28 픽셀)의 이미지 포맷을 28 * 28 = 784 픽셀의 1차원 배열로 변환합니다. 이 층은 이미지에 있는 픽셀의 행을 펼쳐서 일렬로 늘립니다. 이 층에는 학습되는 가중치가 없고 데이터를 변환하기만 합니다.\n",
    "\n",
    "픽셀을 펼친 후에는 두 개의 `tf.keras.layers.Dense` 층이 연속되어 연결됩니다. 이 층을 밀집 연결(densely-connected) 또는 완전 연결(fully-connected) 층이라고 부릅니다. 첫 번째 `Dense` 층은 128개의 노드(또는 뉴런)를 가집니다. 두 번째 (마지막) 층은 10개의 노드의 *소프트맥스*(softmax) 층입니다. 이 층은 10개의 확률을 반환하고 반환된 값의 전체 합은 1입니다. 각 노드는 현재 이미지가 10개 클래스 중 하나에 속할 확률을 출력합니다.\n",
    "\n",
    "### 모델 컴파일\n",
    "\n",
    "모델을 훈련하기 전에 필요한 몇 가지 설정이 모델 *컴파일* 단계에서 추가됩니다:\n",
    "\n",
    "* *손실 함수*(Loss function)-훈련 하는 동안 모델의 오차를 측정합니다. 모델의 학습이 올바른 방향으로 향하도록 이 함수를 최소화해야 합니다.\n",
    "* *옵티마이저*(Optimizer)-데이터와 손실 함수를 바탕으로 모델의 업데이트 방법을 결정합니다.\n",
    "* *지표*(Metrics)-훈련 단계와 테스트 단계를 모니터링하기 위해 사용합니다. 다음 예에서는 올바르게 분류된 이미지의 비율인 *정확도*를 사용합니다."
   ]
  },
  {
   "cell_type": "code",
   "execution_count": null,
   "metadata": {
    "colab": {},
    "colab_type": "code",
    "id": "Lhan11blCaW7"
   },
   "outputs": [],
   "source": [
    "model.compile(optimizer='adam',\n",
    "              loss='sparse_categorical_crossentropy',\n",
    "              metrics=['accuracy'])"
   ]
  },
  {
   "cell_type": "markdown",
   "metadata": {
    "colab_type": "text",
    "id": "qKF6uW-BCaW-"
   },
   "source": [
    "## 모델 훈련\n",
    "\n",
    "신경망 모델을 훈련하는 단계는 다음과 같습니다:\n",
    "\n",
    "1. 훈련 데이터를 모델에 주입합니다-이 예에서는 `train_images`와 `train_labels` 배열입니다.\n",
    "2. 모델이 이미지와 레이블을 매핑하는 방법을 배웁니다.\n",
    "3. 테스트 세트에 대한 모델의 예측을 만듭니다-이 예에서는 `test_images` 배열입니다. 이 예측이 `test_labels` 배열의 레이블과 맞는지 확인합니다.\n",
    "\n",
    "훈련을 시작하기 위해 `model.fit` 메서드를 호출하면 모델이 훈련 데이터를 학습합니다:"
   ]
  },
  {
   "cell_type": "code",
   "execution_count": null,
   "metadata": {
    "colab": {},
    "colab_type": "code",
    "id": "xvwvpA64CaW_"
   },
   "outputs": [],
   "source": [
    "model.fit(train_images, train_labels, epochs=5)"
   ]
  },
  {
   "cell_type": "markdown",
   "metadata": {
    "colab_type": "text",
    "id": "W3ZVOhugCaXA"
   },
   "source": [
    "모델이 훈련되면서 손실과 정확도 지표가 출력됩니다. 이 모델은 훈련 세트에서 약 0.88(88%) 정도의 정확도를 달성합니다."
   ]
  },
  {
   "cell_type": "markdown",
   "metadata": {
    "colab_type": "text",
    "id": "oEw4bZgGCaXB"
   },
   "source": [
    "## 정확도 평가\n",
    "\n",
    "그다음 테스트 세트에서 모델의 성능을 비교합니다:"
   ]
  },
  {
   "cell_type": "code",
   "execution_count": null,
   "metadata": {
    "colab": {},
    "colab_type": "code",
    "id": "VflXLEeECaXC"
   },
   "outputs": [],
   "source": [
    "test_loss, test_acc = model.evaluate(test_images,  test_labels, verbose=2)\n",
    "\n",
    "print('\\n테스트 정확도:', test_acc)"
   ]
  },
  {
   "cell_type": "markdown",
   "metadata": {
    "colab_type": "text",
    "id": "yWfgsmVXCaXG"
   },
   "source": [
    "테스트 세트의 정확도가 훈련 세트의 정확도보다 조금 낮습니다. 훈련 세트의 정확도와 테스트 세트의 정확도 사이의 차이는 *과대적합*(overfitting) 때문입니다. 과대적합은 머신러닝 모델이 훈련 데이터보다 새로운 데이터에서 성능이 낮아지는 현상을 말합니다."
   ]
  },
  {
   "cell_type": "markdown",
   "metadata": {
    "colab_type": "text",
    "id": "xsoS7CPDCaXH"
   },
   "source": [
    "## 예측 만들기\n",
    "\n",
    "훈련된 모델을 사용하여 이미지에 대한 예측을 만들 수 있습니다."
   ]
  },
  {
   "cell_type": "code",
   "execution_count": null,
   "metadata": {
    "colab": {},
    "colab_type": "code",
    "id": "Gl91RPhdCaXI"
   },
   "outputs": [],
   "source": [
    "predictions = model.predict(test_images)"
   ]
  },
  {
   "cell_type": "markdown",
   "metadata": {
    "colab_type": "text",
    "id": "x9Kk1voUCaXJ"
   },
   "source": [
    "여기서는 테스트 세트에 있는 각 이미지의 레이블을 예측했습니다. 첫 번째 예측을 확인해 보죠:"
   ]
  },
  {
   "cell_type": "code",
   "execution_count": null,
   "metadata": {
    "colab": {},
    "colab_type": "code",
    "id": "3DmJEUinCaXK"
   },
   "outputs": [],
   "source": [
    "predictions[0]"
   ]
  },
  {
   "cell_type": "markdown",
   "metadata": {
    "colab_type": "text",
    "id": "-hw1hgeSCaXN"
   },
   "source": [
    "이 예측은 10개의 숫자 배열로 나타납니다. 이 값은 10개의 옷 품목에 상응하는 모델의 신뢰도(confidence)를 나타냅니다. 가장 높은 신뢰도를 가진 레이블을 찾아보죠:"
   ]
  },
  {
   "cell_type": "code",
   "execution_count": null,
   "metadata": {
    "colab": {},
    "colab_type": "code",
    "id": "qsqenuPnCaXO"
   },
   "outputs": [],
   "source": [
    "np.argmax(predictions[0])"
   ]
  },
  {
   "cell_type": "markdown",
   "metadata": {
    "colab_type": "text",
    "id": "E51yS7iCCaXO"
   },
   "source": [
    "모델은 이 이미지가 앵클 부츠(`class_name[9]`)라고 가장 확신하고 있습니다. 이 값이 맞는지 테스트 레이블을 확인해 보죠:"
   ]
  },
  {
   "cell_type": "code",
   "execution_count": null,
   "metadata": {
    "colab": {},
    "colab_type": "code",
    "id": "Sd7Pgsu6CaXP"
   },
   "outputs": [],
   "source": [
    "test_labels[0]"
   ]
  },
  {
   "cell_type": "markdown",
   "metadata": {
    "colab_type": "text",
    "id": "ygh2yYC972ne"
   },
   "source": [
    "10개 클래스에 대한 예측을 모두 그래프로 표현해 보겠습니다:"
   ]
  },
  {
   "cell_type": "code",
   "execution_count": null,
   "metadata": {
    "colab": {},
    "colab_type": "code",
    "id": "DvYmmrpIy6Y1"
   },
   "outputs": [],
   "source": [
    "def plot_image(i, predictions_array, true_label, img):\n",
    "  predictions_array, true_label, img = predictions_array[i], true_label[i], img[i]\n",
    "  plt.grid(False)\n",
    "  plt.xticks([])\n",
    "  plt.yticks([])\n",
    "\n",
    "  plt.imshow(img, cmap=plt.cm.binary)\n",
    "\n",
    "  predicted_label = np.argmax(predictions_array)\n",
    "  if predicted_label == true_label:\n",
    "    color = 'blue'\n",
    "  else:\n",
    "    color = 'red'\n",
    "\n",
    "  plt.xlabel(\"{} {:2.0f}% ({})\".format(class_names[predicted_label],\n",
    "                                100*np.max(predictions_array),\n",
    "                                class_names[true_label]),\n",
    "                                color=color)\n",
    "\n",
    "def plot_value_array(i, predictions_array, true_label):\n",
    "  predictions_array, true_label = predictions_array[i], true_label[i]\n",
    "  plt.grid(False)\n",
    "  plt.xticks([])\n",
    "  plt.yticks([])\n",
    "  thisplot = plt.bar(range(10), predictions_array, color=\"#777777\")\n",
    "  plt.ylim([0, 1])\n",
    "  predicted_label = np.argmax(predictions_array)\n",
    "\n",
    "  thisplot[predicted_label].set_color('red')\n",
    "  thisplot[true_label].set_color('blue')"
   ]
  },
  {
   "cell_type": "markdown",
   "metadata": {
    "colab_type": "text",
    "id": "kgdvGD52CaXR"
   },
   "source": [
    "몇 개의 이미지의 예측을 출력해 보죠. 올바르게 예측된 레이블은 파란색이고 잘못 예측된 레이블은 빨강색입니다. 숫자는 예측 레이블의 신뢰도 퍼센트(100점 만점)입니다. 신뢰도 점수가 높을 때도 잘못 예측할 수 있습니다."
   ]
  },
  {
   "cell_type": "code",
   "execution_count": null,
   "metadata": {
    "colab": {},
    "colab_type": "code",
    "id": "hQlnbqaw2Qu_"
   },
   "outputs": [],
   "source": [
    "# 처음 X 개의 테스트 이미지와 예측 레이블, 진짜 레이블을 출력합니다\n",
    "# 올바른 예측은 파랑색으로 잘못된 예측은 빨강색으로 나타냅니다\n",
    "num_rows = 5\n",
    "num_cols = 3\n",
    "num_images = num_rows*num_cols\n",
    "plt.figure(figsize=(2*2*num_cols, 2*num_rows))\n",
    "for i in range(num_images):\n",
    "  plt.subplot(num_rows, 2*num_cols, 2*i+1)\n",
    "  plot_image(i, predictions, test_labels, test_images)\n",
    "  plt.subplot(num_rows, 2*num_cols, 2*i+2)\n",
    "  plot_value_array(i, predictions, test_labels)\n",
    "plt.show()"
   ]
  },
  {
   "cell_type": "markdown",
   "metadata": {
    "colab_type": "text",
    "id": "R32zteKHCaXT"
   },
   "source": [
    "마지막으로 훈련된 모델을 사용하여 한 이미지에 대한 예측을 만듭니다."
   ]
  },
  {
   "cell_type": "code",
   "execution_count": null,
   "metadata": {
    "colab": {},
    "colab_type": "code",
    "id": "yRJ7JU7JCaXT"
   },
   "outputs": [],
   "source": [
    "# 테스트 세트에서 이미지 하나를 선택합니다\n",
    "img = test_images[0]\n",
    "\n",
    "print(img.shape)"
   ]
  },
  {
   "cell_type": "markdown",
   "metadata": {
    "colab_type": "text",
    "id": "vz3bVp21CaXV"
   },
   "source": [
    "`tf.keras` 모델은 한 번에 샘플의 묶음 또는 *배치*(batch)로 예측을 만드는데 최적화되어 있습니다. 하나의 이미지를 사용할 때에도 2차원 배열로 만들어야 합니다:"
   ]
  },
  {
   "cell_type": "code",
   "execution_count": null,
   "metadata": {
    "colab": {},
    "colab_type": "code",
    "id": "lDFh5yF_CaXW"
   },
   "outputs": [],
   "source": [
    "# 이미지 하나만 사용할 때도 배치에 추가합니다\n",
    "img = (np.expand_dims(img,0))\n",
    "\n",
    "print(img.shape)"
   ]
  },
  {
   "cell_type": "markdown",
   "metadata": {
    "colab_type": "text",
    "id": "EQ5wLTkcCaXY"
   },
   "source": [
    "이제 이 이미지의 예측을 만듭니다:"
   ]
  },
  {
   "cell_type": "code",
   "execution_count": null,
   "metadata": {
    "colab": {},
    "colab_type": "code",
    "id": "o_rzNSdrCaXY"
   },
   "outputs": [],
   "source": [
    "predictions_single = model.predict(img)\n",
    "\n",
    "print(predictions_single)"
   ]
  },
  {
   "cell_type": "code",
   "execution_count": null,
   "metadata": {
    "colab": {},
    "colab_type": "code",
    "id": "6Ai-cpLjO-3A"
   },
   "outputs": [],
   "source": [
    "plot_value_array(0, predictions_single, test_labels)\n",
    "_ = plt.xticks(range(10), class_names, rotation=45)"
   ]
  },
  {
   "cell_type": "markdown",
   "metadata": {
    "colab_type": "text",
    "id": "cU1Y2OAMCaXb"
   },
   "source": [
    "`model.predict`는 2차원 넘파이 배열을 반환하므로 첫 번째 이미지의 예측을 선택합니다:"
   ]
  },
  {
   "cell_type": "code",
   "execution_count": null,
   "metadata": {
    "colab": {},
    "colab_type": "code",
    "id": "2tRmdq_8CaXb"
   },
   "outputs": [],
   "source": [
    "np.argmax(predictions_single[0])"
   ]
  },
  {
   "cell_type": "code",
   "execution_count": null,
   "metadata": {},
   "outputs": [],
   "source": []
  },
  {
   "cell_type": "markdown",
   "metadata": {},
   "source": [
    "## Convolution Neural Network\n",
    "### 0D Convolution"
   ]
  },
  {
   "cell_type": "markdown",
   "metadata": {},
   "source": [
    "<img src=\"https://upload.wikimedia.org/wikipedia/commons/b/b9/Convolution_of_spiky_function_with_box2.gif\" alt=\"filter\" style=\"width: 600px;\"/>"
   ]
  },
  {
   "cell_type": "markdown",
   "metadata": {},
   "source": [
    "## 1D Convolution\n",
    "\n",
    "<img src=\"data:image/png;base64,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\" alt=\"filter\" style=\"width: 600px;\"/>"
   ]
  },
  {
   "cell_type": "markdown",
   "metadata": {},
   "source": [
    "## 2D Convolution\n",
    "\n",
    "<img src=\"https://media.giphy.com/media/i4NjAwytgIRDW/giphy.gif\" alt=\"filter\" style=\"width: 600px;\"/>"
   ]
  },
  {
   "cell_type": "code",
   "execution_count": null,
   "metadata": {},
   "outputs": [],
   "source": [
    "import numpy as np\n",
    "filter_0 = np.array([[1, 0, 1],\n",
    "                     [0, 1, 0],\n",
    "                     [1, 0, 1]])\n",
    "\n",
    "filter_vals = np.array([[-1, -1, 1, 1], \n",
    "                        [-1, -1, 1, 1], \n",
    "                        [-1, -1, 1, 1], \n",
    "                        [-1, -1, 1, 1]])\n",
    "print('Filter shape: ', filter_vals.shape)"
   ]
  },
  {
   "cell_type": "code",
   "execution_count": null,
   "metadata": {},
   "outputs": [],
   "source": [
    "print(filter_0)"
   ]
  },
  {
   "cell_type": "code",
   "execution_count": null,
   "metadata": {},
   "outputs": [],
   "source": [
    "# Define four different filters, all of which are linear combinations of the `filter_vals` defined above\n",
    "\n",
    "filter_1 = filter_vals\n",
    "filter_2 = -filter_1\n",
    "filter_3 = filter_1.T\n",
    "filter_4 = -filter_3\n",
    "filters = np.array([filter_0, filter_1, filter_2, filter_3, filter_4])\n",
    "# Print out the values of filter 1 as an example\n",
    "print('Filter 0: \\n', filter_0)"
   ]
  },
  {
   "cell_type": "markdown",
   "metadata": {},
   "source": [
    "<img src=\"https://miro.medium.com/max/1685/1*haC2Sp7AN6nYuM4wRzD2FQ.png\" alt=\"filter\" style=\"width: 600px;\"/>"
   ]
  },
  {
   "cell_type": "code",
   "execution_count": null,
   "metadata": {},
   "outputs": [],
   "source": [
    "fig = plt.figure(figsize=(40, 40))\n",
    "\n",
    "for i in range(5):\n",
    "    ax = fig.add_subplot(1, 5, i+1, xticks=[], yticks=[])\n",
    "    filtered_image = cv2.filter2D(gray_img, -1, filters[i])\n",
    "    ax.imshow(filtered_image, cmap='gray')\n",
    "    ax.set_title('Filter %s' % str(i+1))"
   ]
  },
  {
   "cell_type": "markdown",
   "metadata": {},
   "source": [
    "## Convolution Neural Network"
   ]
  },
  {
   "cell_type": "code",
   "execution_count": null,
   "metadata": {},
   "outputs": [],
   "source": [
    "model = keras.models.Sequential([\n",
    "    keras.layers.Conv2D(32, (3, 3), activation='relu', input_shape=(28, 28, 1)),\n",
    "    keras.layers.MaxPooling2D((2, 2)),\n",
    "    keras.layers.Conv2D(64, (3, 3), activation='relu'),\n",
    "    keras.layers.MaxPooling2D((2, 2)),\n",
    "    keras.layers.Conv2D(64, (3, 3), activation='relu')   \n",
    "])\n"
   ]
  },
  {
   "cell_type": "markdown",
   "metadata": {},
   "source": [
    "model.summary()"
   ]
  },
  {
   "cell_type": "code",
   "execution_count": null,
   "metadata": {},
   "outputs": [],
   "source": [
    "model.add(keras.layers.Flatten())\n",
    "model.add(keras.layers.Dense(64, activation='relu'))\n",
    "model.add(keras.layers.Dense(10, activation='softmax'))"
   ]
  },
  {
   "cell_type": "code",
   "execution_count": null,
   "metadata": {},
   "outputs": [],
   "source": [
    "model.summary()"
   ]
  },
  {
   "cell_type": "code",
   "execution_count": null,
   "metadata": {},
   "outputs": [],
   "source": [
    "model.compile(optimizer='adam',\n",
    "              loss='sparse_categorical_crossentropy',\n",
    "              metrics=['accuracy'])\n",
    "\n",
    "history = model.fit(train_images, train_labels, epochs=5)"
   ]
  },
  {
   "cell_type": "code",
   "execution_count": null,
   "metadata": {},
   "outputs": [],
   "source": [
    "acc = history.history['accuracy']\n",
    "val_acc = history.history['val_accuracy']\n",
    "\n",
    "loss = history.history['loss']\n",
    "val_loss = history.history['val_loss']\n",
    "\n",
    "plt.figure(figsize=(8, 8))\n",
    "plt.subplot(2, 1, 1)\n",
    "plt.plot(acc, label='Training Accuracy')\n",
    "plt.plot(val_acc, label='Validation Accuracy')\n",
    "plt.legend(loc='lower right')\n",
    "plt.ylabel('Accuracy')\n",
    "plt.ylim([min(plt.ylim()),1])\n",
    "plt.title('Training and Validation Accuracy')\n",
    "\n",
    "plt.subplot(2, 1, 2)\n",
    "plt.plot(loss, label='Training Loss')\n",
    "plt.plot(val_loss, label='Validation Loss')\n",
    "plt.legend(loc='upper right')\n",
    "plt.ylabel('Cross Entropy')\n",
    "plt.ylim([0,1.0])\n",
    "plt.title('Training and Validation Loss')\n",
    "plt.xlabel('epoch')\n",
    "plt.show()"
   ]
  }
 ],
 "metadata": {
  "colab": {
   "collapsed_sections": [],
   "name": "classification.ipynb",
   "private_outputs": true,
   "provenance": [],
   "toc_visible": true
  },
  "kernelspec": {
   "display_name": "Python 3",
   "language": "python",
   "name": "python3"
  },
  "language_info": {
   "codemirror_mode": {
    "name": "ipython",
    "version": 3
   },
   "file_extension": ".py",
   "mimetype": "text/x-python",
   "name": "python",
   "nbconvert_exporter": "python",
   "pygments_lexer": "ipython3",
   "version": "3.7.4"
  }
 },
 "nbformat": 4,
 "nbformat_minor": 4
}
